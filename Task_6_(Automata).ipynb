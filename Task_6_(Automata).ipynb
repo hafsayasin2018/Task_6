{
 "cells": [
  {
   "cell_type": "code",
   "execution_count": 1,
   "id": "d6edd246",
   "metadata": {},
   "outputs": [],
   "source": [
    "from typing import List\n",
    "from math import gcd\n",
    "from fractions import Fraction"
   ]
  },
  {
   "cell_type": "markdown",
   "id": "744c3742",
   "metadata": {},
   "source": [
    "## define functions to retain the matrics by Absorbing Markov Chain:"
   ]
  },
  {
   "cell_type": "code",
   "execution_count": 2,
   "id": "bc89b1e6",
   "metadata": {},
   "outputs": [],
   "source": [
    "def transform_matrix(m: List[List]):\n",
    "   \n",
    "    l = len(m)\n",
    "    for i in range(l):\n",
    "        row_sum = sum(m[i])\n",
    "        if row_sum == 0:\n",
    "            m[i][i] = 1\n",
    "        else:\n",
    "            for j in range(l):\n",
    "                m[i][j] = Fraction(m[i][j], row_sum)\n"
   ]
  },
  {
   "cell_type": "code",
   "execution_count": 3,
   "id": "82901f1e",
   "metadata": {},
   "outputs": [],
   "source": [
    "def get_submatrix(matrix: List[List], rows: List, cols: List) -> List[List]:\n",
    "    new_matrix = []\n",
    "    for row in rows:\n",
    "        current_row = []\n",
    "        for col in cols:\n",
    "            current_row.append(matrix[row][col])\n",
    "        new_matrix.append(current_row)\n",
    "    return new_matrix"
   ]
  },
  {
   "cell_type": "code",
   "execution_count": 4,
   "id": "536d7cae",
   "metadata": {},
   "outputs": [],
   "source": [
    "def get_q_matrix(matrix: List[List], transient_states: List) -> List[List]:\n",
    "   \n",
    "    return get_submatrix(matrix, transient_states, transient_states)"
   ]
  },
  {
   "cell_type": "code",
   "execution_count": 5,
   "id": "0dcc95d3",
   "metadata": {},
   "outputs": [],
   "source": [
    "def get_r_matrix(matrix: List[List], transient_states: List, absorbing_states: List) -> List[List]:\n",
    "  \n",
    "    return get_submatrix(matrix, transient_states, absorbing_states)"
   ]
  },
  {
   "cell_type": "code",
   "execution_count": 15,
   "id": "e60b9e52",
   "metadata": {},
   "outputs": [],
   "source": [
    "def make_2d_list(n: int, m: int) -> List[List]:\n",
    "    a = []\n",
    "    for row in range(n):\n",
    "        a += [[0]*m]\n",
    "    return a"
   ]
  },
  {
   "cell_type": "code",
   "execution_count": 16,
   "id": "287aa89a",
   "metadata": {},
   "outputs": [],
   "source": [
    "def make_identity(n: int) -> List[List]:\n",
    "  \n",
    "    matrix = make_2d_list(n, n)\n",
    "    for i in range(n):\n",
    "        matrix[i][i] = 1\n",
    "    return matrix\n"
   ]
  },
  {
   "cell_type": "code",
   "execution_count": 17,
   "id": "f0ebd863",
   "metadata": {},
   "outputs": [],
   "source": [
    "def subtract_matrices(a: List[List], b: List[List]) -> List[List]:\n",
    "    new_matrix = []\n",
    "    n, m = len(a), len(b)\n",
    "    for i in range(n):\n",
    "        row = []\n",
    "        for j in range(m):\n",
    "            row.append(a[i][j] - b[i][j])\n",
    "        new_matrix.append(row)\n",
    "    return new_matrix"
   ]
  },
  {
   "cell_type": "code",
   "execution_count": 18,
   "id": "d6efee66",
   "metadata": {},
   "outputs": [],
   "source": [
    "def multiply_matrices(a: List[List], b: List[List]) -> List[List]:\n",
    " \n",
    "    ar, ac, bc = len(a), len(a[0]), len(b[0])\n",
    "    c = make_2d_list(ar, bc)\n",
    "    for i in range(ar):\n",
    "        for j in range(bc):\n",
    "            prod = Fraction(0, 1)\n",
    "            for k in range(ac):\n",
    "                prod += a[i][k] * b[k][j]\n",
    "            c[i][j] = prod\n",
    "    return c"
   ]
  },
  {
   "cell_type": "code",
   "execution_count": 19,
   "id": "e07a84b0",
   "metadata": {},
   "outputs": [],
   "source": [
    "def multiply_row_of_square_matrix(matrix: List[List], row: int, k: int) -> List[List]:\n",
    "    n = len(matrix)\n",
    "    identity = make_identity(n)\n",
    "    identity[row][row] = k\n",
    "    return multiply_matrices(identity, matrix)"
   ]
  },
  {
   "cell_type": "code",
   "execution_count": 20,
   "id": "44be5157",
   "metadata": {},
   "outputs": [],
   "source": [
    "def add_multiple_of_row_of_square_matrix(matrix: List[List], source_row: int, k: int, target_row: int):\n",
    "    \n",
    "    n = len(matrix)\n",
    "    row_operator = make_identity(n)\n",
    "    row_operator[target_row][source_row] = k\n",
    "    return multiply_matrices(row_operator, matrix)"
   ]
  },
  {
   "cell_type": "code",
   "execution_count": 21,
   "id": "17420d1b",
   "metadata": {},
   "outputs": [],
   "source": [
    "def invert_matrix(matrix: List[List]) -> List[List]:\n",
    "    n = len(matrix)\n",
    "    inverse = make_identity(n)\n",
    "    for col in range(n):\n",
    "        diagonal_row = col\n",
    "        k = Fraction(1, matrix[diagonal_row][col])\n",
    "        matrix = multiply_row_of_square_matrix(matrix, diagonal_row, k)\n",
    "        inverse = multiply_row_of_square_matrix(inverse, diagonal_row, k)\n",
    "        source_row = diagonal_row\n",
    "        for target_row in range(n):\n",
    "            if source_row != target_row:\n",
    "                k = -matrix[target_row][col]\n",
    "                matrix = add_multiple_of_row_of_square_matrix(matrix, source_row, k, target_row)\n",
    "                inverse = add_multiple_of_row_of_square_matrix(inverse, source_row, k, target_row)\n",
    "    return inverse"
   ]
  },
  {
   "cell_type": "code",
   "execution_count": 22,
   "id": "b663a35f",
   "metadata": {},
   "outputs": [],
   "source": [
    "def lcm(a: int, b: int) -> int:\n",
    "    result = a * b // gcd(a, b)\n",
    "    return result\n",
    "\n",
    "def lcm_for_arrays(args: List) -> int:\n",
    "    array_length = len(args)\n",
    "    if array_length <= 2:\n",
    "        return lcm(*args)\n",
    "\n",
    "    initial = lcm(args[0], args[1])\n",
    "    i = 2\n",
    "    while i < array_length:\n",
    "        initial = lcm(initial, args[i])\n",
    "        i += 1\n",
    "    return initial\n"
   ]
  },
  {
   "cell_type": "markdown",
   "id": "25f8121b",
   "metadata": {},
   "source": [
    "### Call all the above functions to perform the limiting matrics with Markov Chain"
   ]
  },
  {
   "cell_type": "code",
   "execution_count": 23,
   "id": "f43620cf",
   "metadata": {},
   "outputs": [],
   "source": [
    "def solution(m):  \n",
    "\n",
    "    transient_states = []\n",
    "    absorbing_states = []\n",
    "    for i in range(len(m)):\n",
    "        row = m[i]\n",
    "        if sum(row) == 0:\n",
    "            absorbing_states.append(i)\n",
    "        else:\n",
    "            transient_states.append(i)\n",
    "\n",
    "    transform_matrix(m)\n",
    "\n",
    "    q = get_q_matrix(m, transient_states)\n",
    "    r = get_r_matrix(m, transient_states, absorbing_states)\n",
    "    identity = make_identity(len(q))\n",
    "    diff = subtract_matrices(identity, q)\n",
    "    inverse = invert_matrix(diff)\n",
    "    result = multiply_matrices(inverse, r)\n",
    "    print('initial result', result)\n",
    "\n",
    "    denominator = lcm_for_arrays([item.denominator for item in result[0]])\n",
    "    result = [item.numerator * denominator // item.denominator for item in result[0]]\n",
    "    result.append(denominator)\n",
    "    return result"
   ]
  },
  {
   "cell_type": "code",
   "execution_count": 41,
   "id": "f6a4c331",
   "metadata": {},
   "outputs": [
    {
     "name": "stdout",
     "output_type": "stream",
     "text": [
      "initial result [[Fraction(0, 1), Fraction(3, 14), Fraction(1, 7), Fraction(9, 14)], [Fraction(0, 1), Fraction(3, 7), Fraction(2, 7), Fraction(2, 7)]]\n",
      "[0, 3, 2, 9, 14]\n",
      "initial result [[Fraction(1, 3), Fraction(2, 7), Fraction(8, 21)], [Fraction(0, 1), Fraction(3, 7), Fraction(4, 7)]]\n",
      "[7, 6, 8, 21]\n",
      "initial result [[Fraction(0, 1), Fraction(3, 14), Fraction(1, 7), Fraction(9, 14)], [Fraction(0, 1), Fraction(3, 7), Fraction(2, 7), Fraction(2, 7)]]\n",
      "[0, 3, 2, 9, 14]\n"
     ]
    }
   ],
   "source": [
    "if __name__ == \"__main__\":\n",
    "    example_1 = [[0, 1, 0, 0, 0, 1],\n",
    "          [4, 0, 0, 3, 2, 0],\n",
    "          [0, 0, 0, 0, 0, 0],\n",
    "          [0, 0, 0, 0, 0, 0],\n",
    "          [0, 0, 0, 0, 0, 0],\n",
    "          [0, 0, 0, 0, 0, 0]]\n",
    "    print(solution(example_1))\n",
    "    example_2 = [[0, 2, 1, 0, 0],\n",
    "          [0, 0, 0, 3, 4],\n",
    "          [0, 0, 0, 0, 0],\n",
    "          [0, 0, 0, 0, 0],\n",
    "          [0, 0, 0, 0, 0]]\n",
    "    print(solution(example_2))\n",
    "    example_3 = [[0, 1, 0, 0, 0, 1],\n",
    "          [4, 0, 0, 3, 2, 0],\n",
    "          [0, 0, 0, 0, 0, 0],\n",
    "          [0, 0, 0, 0, 0, 0],\n",
    "          [0, 0, 0, 0, 0, 0],\n",
    "          [0, 0, 0, 0, 0, 0]]\n",
    "    print(solution(example_3))"
   ]
  },
  {
   "cell_type": "code",
   "execution_count": null,
   "id": "a1b07b89",
   "metadata": {},
   "outputs": [],
   "source": []
  }
 ],
 "metadata": {
  "kernelspec": {
   "display_name": "Python 3 (ipykernel)",
   "language": "python",
   "name": "python3"
  },
  "language_info": {
   "codemirror_mode": {
    "name": "ipython",
    "version": 3
   },
   "file_extension": ".py",
   "mimetype": "text/x-python",
   "name": "python",
   "nbconvert_exporter": "python",
   "pygments_lexer": "ipython3",
   "version": "3.10.6"
  }
 },
 "nbformat": 4,
 "nbformat_minor": 5
}
